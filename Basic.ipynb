{
 "cells": [
  {
   "cell_type": "code",
   "execution_count": 1,
   "id": "db4e0ba9",
   "metadata": {},
   "outputs": [
    {
     "name": "stdout",
     "output_type": "stream",
     "text": [
      "Do you have membership? if yes PLS key 1; if not PLS key 0\n",
      "1\n",
      "PLS input your amount\n",
      "3500\n",
      "2800.0\n"
     ]
    }
   ],
   "source": [
    "print(\"Do you have membership? if yes PLS key 1; if not PLS key 0\")\n",
    "member = input()\n",
    "print(\"PLS input your amount\")\n",
    "amount = input()\n",
    "\n",
    "if int(member) == 1:\n",
    "    if int(amount) >= 3000:\n",
    "        print(int(amount)*0.8)\n",
    "        \n",
    "    else:\n",
    "        print(int(amount)*0.9)\n",
    "else:\n",
    "    if int(amount) >= 5000:\n",
    "        print(int(amount)*0.9)\n",
    "    \n",
    "    else:\n",
    "        print(int(amount))"
   ]
  },
  {
   "cell_type": "code",
   "execution_count": null,
   "id": "a2bf8006",
   "metadata": {},
   "outputs": [],
   "source": [
    "# 股票一報酬率\n",
    "r1 = 0\n",
    "# 股票二報酬率\n",
    "r2 = 0\n",
    "\n",
    "if (r1 > 0 and r2 > 0) or (r1 < 0 and r2 < 0) or (r1 == 0 and r2 == 0):\n",
    "    print(\"兩者走勢相同\")\n",
    "else:\n",
    "    print(\"兩者走勢不同\")"
   ]
  },
  {
   "cell_type": "code",
   "execution_count": null,
   "id": "198acd04",
   "metadata": {},
   "outputs": [],
   "source": [
    "import random\n",
    "\n",
    "print(\"-------歡迎來到剪刀石頭布！-------\")\n",
    "# 電腦出拳\n",
    "comp_hand = random.randint(1,3)\n",
    "print(comp_hand)\n",
    "# 玩家出拳\n",
    "user_hand = int(input(\"請出拳 (1) 剪刀 (2) 石頭 (3) 布：\"))\n",
    "\n",
    "\n",
    "# 判斷玩家是贏還是輸\n",
    "if (user_hand-comp_hand) == 1:\n",
    "    print(\"你贏了!\")\n",
    "elif (user_hand-comp_hand) == -2:\n",
    "    print(\"你贏了!\")\n",
    "elif user_hand == comp_hand:\n",
    "    print(\"平手!\")\n",
    "else:\n",
    "    print(\"你輸了!\")"
   ]
  }
 ],
 "metadata": {
  "kernelspec": {
   "display_name": "Python 3 (ipykernel)",
   "language": "python",
   "name": "python3"
  },
  "language_info": {
   "codemirror_mode": {
    "name": "ipython",
    "version": 3
   },
   "file_extension": ".py",
   "mimetype": "text/x-python",
   "name": "python",
   "nbconvert_exporter": "python",
   "pygments_lexer": "ipython3",
   "version": "3.9.12"
  }
 },
 "nbformat": 4,
 "nbformat_minor": 5
}
